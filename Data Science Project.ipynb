{
    "cells": [
        {
            "metadata": {},
            "cell_type": "markdown",
            "source": "<div class=\"alert alert-block alert-info\" style=\"margin-top: 20px\">\n    <a href=\"https://cocl.us/PY0101EN_edx_add_top\">\n         <img src=\"https://s3-api.us-geo.objectstorage.softlayer.net/cf-courses-data/CognitiveClass/PY0101EN/Ad/TopAd.png\" width=\"750\" align=\"center\">\n    </a>\n</div>"
        },
        {
            "metadata": {},
            "cell_type": "markdown",
            "source": "<a href=\"https://cognitiveclass.ai/\">\n    <img src=\"https://s3-api.us-geo.objectstorage.softlayer.net/cf-courses-data/CognitiveClass/PY0101EN/Ad/CCLog.png\" width=\"200\" align=\"center\">\n</a>"
        },
        {
            "metadata": {},
            "cell_type": "markdown",
            "source": "<h1>Introduction to Pandas Python</h1>"
        },
        {
            "metadata": {},
            "cell_type": "markdown",
            "source": "<p><strong>Welcome!</strong> This notebook will teach you about using <code>Pandas</code> in the Python Programming Language. By the end of this lab, you'll know how to use <code>Pandas</code> package to view and access data.</p>"
        },
        {
            "metadata": {},
            "cell_type": "markdown",
            "source": "<h2>Table of Contents</h2>\n<div class=\"alert alert-block alert-info\" style=\"margin-top: 20px\">\n    <ul>\n        <li><a href=\"dataset\">About the Dataset</a></li>\n        <li><a href=\"pandas\">Introduction of <code>Pandas</code></a></li>\n        <li><a href=\"data\">Viewing Data and Accessing Data</a></li>\n        <li><a href=\"quiz\">Quiz on DataFrame</a></li>\n    </ul>\n    <p>\n        Estimated time needed: <strong>15 min</strong>\n    </p>\n</div>\n\n<hr>"
        },
        {
            "metadata": {},
            "cell_type": "markdown",
            "source": "<h2 id=\"dataset\">About the Dataset</h2>"
        },
        {
            "metadata": {},
            "cell_type": "markdown",
            "source": "The table has one row for each album and several columns\n\n<ul>\n    <li><b>artist</b>: Name of the artist</li>\n    <li><b>album</b>: Name of the album</li>\n    <li><b>released_year</b>: Year the album was released</li>\n    <li><b>length_min_sec</b>: Length of the album (hours,minutes,seconds)</li>\n    <li><b>genre</b>: Genre of the album</li>\n    <li><b>music_recording_sales_millions</b>: Music recording sales (millions in USD) on <a href=\"http://www.song-database.com/\">[SONG://DATABASE]</a></li>\n    <li><b>claimed_sales_millions</b>: Album's claimed sales (millions in USD) on <a href=\"http://www.song-database.com/\">[SONG://DATABASE]</a></li>\n    <li><b>date_released</b>: Date on which the album was released</li>\n    <li><b>soundtrack</b>: Indicates if the album is the movie soundtrack (Y) or (N)</li>\n    <li><b>rating_of_friends</b>: Indicates the rating from your friends from 1 to 10</li>\n</ul>\n\nYou can see the dataset here:\n\n<font size=\"1\">\n<table font-size:xx-small style=\"width:25%\">\n  <tr>\n    <th>Artist</th>\n    <th>Album</th> \n    <th>Released</th>\n    <th>Length</th>\n    <th>Genre</th> \n    <th>Music recording sales (millions)</th>\n    <th>Claimed sales (millions)</th>\n    <th>Released</th>\n    <th>Soundtrack</th>\n    <th>Rating (friends)</th>\n  </tr>\n  <tr>\n    <td>Michael Jackson</td>\n    <td>Thriller</td> \n    <td>1982</td>\n    <td>00:42:19</td>\n    <td>Pop, rock, R&B</td>\n    <td>46</td>\n    <td>65</td>\n    <td>30-Nov-82</td>\n    <td></td>\n    <td>10.0</td>\n  </tr>\n  <tr>\n    <td>AC/DC</td>\n    <td>Back in Black</td> \n    <td>1980</td>\n    <td>00:42:11</td>\n    <td>Hard rock</td>\n    <td>26.1</td>\n    <td>50</td>\n    <td>25-Jul-80</td>\n    <td></td>\n    <td>8.5</td>\n  </tr>\n    <tr>\n    <td>Pink Floyd</td>\n    <td>The Dark Side of the Moon</td> \n    <td>1973</td>\n    <td>00:42:49</td>\n    <td>Progressive rock</td>\n    <td>24.2</td>\n    <td>45</td>\n    <td>01-Mar-73</td>\n    <td></td>\n    <td>9.5</td>\n  </tr>\n    <tr>\n    <td>Whitney Houston</td>\n    <td>The Bodyguard</td> \n    <td>1992</td>\n    <td>00:57:44</td>\n    <td>Soundtrack/R&B, soul, pop</td>\n    <td>26.1</td>\n    <td>50</td>\n    <td>25-Jul-80</td>\n    <td>Y</td>\n    <td>7.0</td>\n  </tr>\n    <tr>\n    <td>Meat Loaf</td>\n    <td>Bat Out of Hell</td> \n    <td>1977</td>\n    <td>00:46:33</td>\n    <td>Hard rock, progressive rock</td>\n    <td>20.6</td>\n    <td>43</td>\n    <td>21-Oct-77</td>\n    <td></td>\n    <td>7.0</td>\n  </tr>\n    <tr>\n    <td>Eagles</td>\n    <td>Their Greatest Hits (1971-1975)</td> \n    <td>1976</td>\n    <td>00:43:08</td>\n    <td>Rock, soft rock, folk rock</td>\n    <td>32.2</td>\n    <td>42</td>\n    <td>17-Feb-76</td>\n    <td></td>\n    <td>9.5</td>\n  </tr>\n    <tr>\n    <td>Bee Gees</td>\n    <td>Saturday Night Fever</td> \n    <td>1977</td>\n    <td>1:15:54</td>\n    <td>Disco</td>\n    <td>20.6</td>\n    <td>40</td>\n    <td>15-Nov-77</td>\n    <td>Y</td>\n    <td>9.0</td>\n  </tr>\n    <tr>\n    <td>Fleetwood Mac</td>\n    <td>Rumours</td> \n    <td>1977</td>\n    <td>00:40:01</td>\n    <td>Soft rock</td>\n    <td>27.9</td>\n    <td>40</td>\n    <td>04-Feb-77</td>\n    <td></td>\n    <td>9.5</td>\n  </tr>\n</table></font>"
        },
        {
            "metadata": {},
            "cell_type": "markdown",
            "source": "<hr>"
        },
        {
            "metadata": {},
            "cell_type": "markdown",
            "source": "<h2 id=\"pandas\">Introduction of <code>Pandas</code></h2>"
        },
        {
            "metadata": {},
            "cell_type": "code",
            "source": "# Dependency needed to install file \n\n!pip install xlrd",
            "execution_count": 1,
            "outputs": [
                {
                    "output_type": "stream",
                    "text": "Requirement already satisfied: xlrd in /opt/conda/envs/Python36/lib/python3.6/site-packages (1.2.0)\r\n",
                    "name": "stdout"
                }
            ]
        },
        {
            "metadata": {},
            "cell_type": "code",
            "source": "# Import required library\n\nimport pandas as pd",
            "execution_count": 3,
            "outputs": []
        },
        {
            "metadata": {},
            "cell_type": "markdown",
            "source": "After the import command, we now have access to a large number of pre-built classes and functions. This assumes the library is installed; in our lab environment all the necessary libraries are installed. One way pandas allows you to work with data is a dataframe. Let's go through the process to go from a comma separated values (<b>.csv</b>) file to a dataframe. This variable <code>csv_path</code> stores the path of the <b>.csv</b>, that is  used as an argument to the <code>read_csv</code> function. The result is stored in the object <code>df</code>, this is a common short form used for a variable referring to a Pandas dataframe. "
        },
        {
            "metadata": {
                "scrolled": true
            },
            "cell_type": "code",
            "source": "# Read data from CSV file\n\ncsv_path = 'https://s3-api.us-geo.objectstorage.softlayer.net/cf-courses-data/CognitiveClass/PY0101EN/Chapter%204/Datasets/TopSellingAlbums.csv'\ndf = pd.read_csv(csv_path)",
            "execution_count": 4,
            "outputs": []
        },
        {
            "metadata": {},
            "cell_type": "markdown",
            "source": "We can use the method <code>head()</code> to examine the first five rows of a dataframe: "
        },
        {
            "metadata": {},
            "cell_type": "code",
            "source": "# Print first five rows of the dataframe\n\ndf.head()",
            "execution_count": 5,
            "outputs": [
                {
                    "output_type": "execute_result",
                    "execution_count": 5,
                    "data": {
                        "text/plain": "            Artist                      Album  Released   Length  \\\n0  Michael Jackson                   Thriller      1982  0:42:19   \n1            AC/DC              Back in Black      1980  0:42:11   \n2       Pink Floyd  The Dark Side of the Moon      1973  0:42:49   \n3  Whitney Houston              The Bodyguard      1992  0:57:44   \n4        Meat Loaf            Bat Out of Hell      1977  0:46:33   \n\n                         Genre  Music Recording Sales (millions)  \\\n0               pop, rock, R&B                              46.0   \n1                    hard rock                              26.1   \n2             progressive rock                              24.2   \n3               R&B, soul, pop                              27.4   \n4  hard rock, progressive rock                              20.6   \n\n   Claimed Sales (millions) Released.1 Soundtrack  Rating  \n0                        65  30-Nov-82        NaN    10.0  \n1                        50  25-Jul-80        NaN     9.5  \n2                        45  01-Mar-73        NaN     9.0  \n3                        44  17-Nov-92          Y     8.5  \n4                        43  21-Oct-77        NaN     8.0  ",
                        "text/html": "<div>\n<style scoped>\n    .dataframe tbody tr th:only-of-type {\n        vertical-align: middle;\n    }\n\n    .dataframe tbody tr th {\n        vertical-align: top;\n    }\n\n    .dataframe thead th {\n        text-align: right;\n    }\n</style>\n<table border=\"1\" class=\"dataframe\">\n  <thead>\n    <tr style=\"text-align: right;\">\n      <th></th>\n      <th>Artist</th>\n      <th>Album</th>\n      <th>Released</th>\n      <th>Length</th>\n      <th>Genre</th>\n      <th>Music Recording Sales (millions)</th>\n      <th>Claimed Sales (millions)</th>\n      <th>Released.1</th>\n      <th>Soundtrack</th>\n      <th>Rating</th>\n    </tr>\n  </thead>\n  <tbody>\n    <tr>\n      <th>0</th>\n      <td>Michael Jackson</td>\n      <td>Thriller</td>\n      <td>1982</td>\n      <td>0:42:19</td>\n      <td>pop, rock, R&amp;B</td>\n      <td>46.0</td>\n      <td>65</td>\n      <td>30-Nov-82</td>\n      <td>NaN</td>\n      <td>10.0</td>\n    </tr>\n    <tr>\n      <th>1</th>\n      <td>AC/DC</td>\n      <td>Back in Black</td>\n      <td>1980</td>\n      <td>0:42:11</td>\n      <td>hard rock</td>\n      <td>26.1</td>\n      <td>50</td>\n      <td>25-Jul-80</td>\n      <td>NaN</td>\n      <td>9.5</td>\n    </tr>\n    <tr>\n      <th>2</th>\n      <td>Pink Floyd</td>\n      <td>The Dark Side of the Moon</td>\n      <td>1973</td>\n      <td>0:42:49</td>\n      <td>progressive rock</td>\n      <td>24.2</td>\n      <td>45</td>\n      <td>01-Mar-73</td>\n      <td>NaN</td>\n      <td>9.0</td>\n    </tr>\n    <tr>\n      <th>3</th>\n      <td>Whitney Houston</td>\n      <td>The Bodyguard</td>\n      <td>1992</td>\n      <td>0:57:44</td>\n      <td>R&amp;B, soul, pop</td>\n      <td>27.4</td>\n      <td>44</td>\n      <td>17-Nov-92</td>\n      <td>Y</td>\n      <td>8.5</td>\n    </tr>\n    <tr>\n      <th>4</th>\n      <td>Meat Loaf</td>\n      <td>Bat Out of Hell</td>\n      <td>1977</td>\n      <td>0:46:33</td>\n      <td>hard rock, progressive rock</td>\n      <td>20.6</td>\n      <td>43</td>\n      <td>21-Oct-77</td>\n      <td>NaN</td>\n      <td>8.0</td>\n    </tr>\n  </tbody>\n</table>\n</div>"
                    },
                    "metadata": {}
                }
            ]
        },
        {
            "metadata": {},
            "cell_type": "markdown",
            "source": " We use the path of the excel file and the function <code>read_excel</code>. The result is a data frame as before:"
        },
        {
            "metadata": {},
            "cell_type": "code",
            "source": "# Read data from Excel File and print the first five rows\n\nxlsx_path = 'https://s3-api.us-geo.objectstorage.softlayer.net/cf-courses-data/CognitiveClass/PY0101EN/Chapter%204/Datasets/TopSellingAlbums.xlsx'\n\ndf = pd.read_excel(xlsx_path)\ndf.head()",
            "execution_count": 6,
            "outputs": [
                {
                    "output_type": "execute_result",
                    "execution_count": 6,
                    "data": {
                        "text/plain": "            Artist                      Album  Released    Length  \\\n0  Michael Jackson                   Thriller      1982  00:42:19   \n1            AC/DC              Back in Black      1980  00:42:11   \n2       Pink Floyd  The Dark Side of the Moon      1973  00:42:49   \n3  Whitney Houston              The Bodyguard      1992  00:57:44   \n4        Meat Loaf            Bat Out of Hell      1977  00:46:33   \n\n                         Genre  Music Recording Sales (millions)  \\\n0               pop, rock, R&B                              46.0   \n1                    hard rock                              26.1   \n2             progressive rock                              24.2   \n3               R&B, soul, pop                              27.4   \n4  hard rock, progressive rock                              20.6   \n\n   Claimed Sales (millions) Released.1 Soundtrack  Rating  \n0                        65 1982-11-30        NaN    10.0  \n1                        50 1980-07-25        NaN     9.5  \n2                        45 1973-03-01        NaN     9.0  \n3                        44 1992-11-17          Y     8.5  \n4                        43 1977-10-21        NaN     8.0  ",
                        "text/html": "<div>\n<style scoped>\n    .dataframe tbody tr th:only-of-type {\n        vertical-align: middle;\n    }\n\n    .dataframe tbody tr th {\n        vertical-align: top;\n    }\n\n    .dataframe thead th {\n        text-align: right;\n    }\n</style>\n<table border=\"1\" class=\"dataframe\">\n  <thead>\n    <tr style=\"text-align: right;\">\n      <th></th>\n      <th>Artist</th>\n      <th>Album</th>\n      <th>Released</th>\n      <th>Length</th>\n      <th>Genre</th>\n      <th>Music Recording Sales (millions)</th>\n      <th>Claimed Sales (millions)</th>\n      <th>Released.1</th>\n      <th>Soundtrack</th>\n      <th>Rating</th>\n    </tr>\n  </thead>\n  <tbody>\n    <tr>\n      <th>0</th>\n      <td>Michael Jackson</td>\n      <td>Thriller</td>\n      <td>1982</td>\n      <td>00:42:19</td>\n      <td>pop, rock, R&amp;B</td>\n      <td>46.0</td>\n      <td>65</td>\n      <td>1982-11-30</td>\n      <td>NaN</td>\n      <td>10.0</td>\n    </tr>\n    <tr>\n      <th>1</th>\n      <td>AC/DC</td>\n      <td>Back in Black</td>\n      <td>1980</td>\n      <td>00:42:11</td>\n      <td>hard rock</td>\n      <td>26.1</td>\n      <td>50</td>\n      <td>1980-07-25</td>\n      <td>NaN</td>\n      <td>9.5</td>\n    </tr>\n    <tr>\n      <th>2</th>\n      <td>Pink Floyd</td>\n      <td>The Dark Side of the Moon</td>\n      <td>1973</td>\n      <td>00:42:49</td>\n      <td>progressive rock</td>\n      <td>24.2</td>\n      <td>45</td>\n      <td>1973-03-01</td>\n      <td>NaN</td>\n      <td>9.0</td>\n    </tr>\n    <tr>\n      <th>3</th>\n      <td>Whitney Houston</td>\n      <td>The Bodyguard</td>\n      <td>1992</td>\n      <td>00:57:44</td>\n      <td>R&amp;B, soul, pop</td>\n      <td>27.4</td>\n      <td>44</td>\n      <td>1992-11-17</td>\n      <td>Y</td>\n      <td>8.5</td>\n    </tr>\n    <tr>\n      <th>4</th>\n      <td>Meat Loaf</td>\n      <td>Bat Out of Hell</td>\n      <td>1977</td>\n      <td>00:46:33</td>\n      <td>hard rock, progressive rock</td>\n      <td>20.6</td>\n      <td>43</td>\n      <td>1977-10-21</td>\n      <td>NaN</td>\n      <td>8.0</td>\n    </tr>\n  </tbody>\n</table>\n</div>"
                    },
                    "metadata": {}
                }
            ]
        },
        {
            "metadata": {},
            "cell_type": "markdown",
            "source": "We can access the column <b>Length</b> and assign it a new dataframe <b>x</b>:"
        },
        {
            "metadata": {},
            "cell_type": "code",
            "source": "# Access to the column Length\n\nx = df[['Length']]\nx",
            "execution_count": 7,
            "outputs": [
                {
                    "output_type": "execute_result",
                    "execution_count": 7,
                    "data": {
                        "text/plain": "     Length\n0  00:42:19\n1  00:42:11\n2  00:42:49\n3  00:57:44\n4  00:46:33\n5  00:43:08\n6  01:15:54\n7  00:40:01",
                        "text/html": "<div>\n<style scoped>\n    .dataframe tbody tr th:only-of-type {\n        vertical-align: middle;\n    }\n\n    .dataframe tbody tr th {\n        vertical-align: top;\n    }\n\n    .dataframe thead th {\n        text-align: right;\n    }\n</style>\n<table border=\"1\" class=\"dataframe\">\n  <thead>\n    <tr style=\"text-align: right;\">\n      <th></th>\n      <th>Length</th>\n    </tr>\n  </thead>\n  <tbody>\n    <tr>\n      <th>0</th>\n      <td>00:42:19</td>\n    </tr>\n    <tr>\n      <th>1</th>\n      <td>00:42:11</td>\n    </tr>\n    <tr>\n      <th>2</th>\n      <td>00:42:49</td>\n    </tr>\n    <tr>\n      <th>3</th>\n      <td>00:57:44</td>\n    </tr>\n    <tr>\n      <th>4</th>\n      <td>00:46:33</td>\n    </tr>\n    <tr>\n      <th>5</th>\n      <td>00:43:08</td>\n    </tr>\n    <tr>\n      <th>6</th>\n      <td>01:15:54</td>\n    </tr>\n    <tr>\n      <th>7</th>\n      <td>00:40:01</td>\n    </tr>\n  </tbody>\n</table>\n</div>"
                    },
                    "metadata": {}
                }
            ]
        },
        {
            "metadata": {},
            "cell_type": "markdown",
            "source": " The process is shown in the figure: "
        },
        {
            "metadata": {},
            "cell_type": "markdown",
            "source": "<img src=\"https://s3-api.us-geo.objectstorage.softlayer.net/cf-courses-data/CognitiveClass/PY0101EN/Chapter%204/Images/DataEgOne.png\" width=\"750\" />"
        },
        {
            "metadata": {},
            "cell_type": "markdown",
            "source": "<hr>"
        },
        {
            "metadata": {},
            "cell_type": "markdown",
            "source": "<h2 id=\"data\">Viewing Data and Accessing Data</h2>"
        },
        {
            "metadata": {},
            "cell_type": "markdown",
            "source": "You can also get a column as a series. You can think of a Pandas series as a 1-D dataframe. Just use one bracket: "
        },
        {
            "metadata": {},
            "cell_type": "code",
            "source": "# Get the column as a series\n\nx = df['Length']\nx",
            "execution_count": 8,
            "outputs": [
                {
                    "output_type": "execute_result",
                    "execution_count": 8,
                    "data": {
                        "text/plain": "0    00:42:19\n1    00:42:11\n2    00:42:49\n3    00:57:44\n4    00:46:33\n5    00:43:08\n6    01:15:54\n7    00:40:01\nName: Length, dtype: object"
                    },
                    "metadata": {}
                }
            ]
        },
        {
            "metadata": {},
            "cell_type": "markdown",
            "source": "You can also get a column as a dataframe. For example, we can assign the column <b>Artist</b>:"
        },
        {
            "metadata": {},
            "cell_type": "code",
            "source": "# Get the column as a dataframe\n\nx = type(df[['Artist']])\nx",
            "execution_count": 9,
            "outputs": [
                {
                    "output_type": "execute_result",
                    "execution_count": 9,
                    "data": {
                        "text/plain": "pandas.core.frame.DataFrame"
                    },
                    "metadata": {}
                }
            ]
        },
        {
            "metadata": {},
            "cell_type": "markdown",
            "source": "You can do the same thing for multiple columns; we just put the dataframe name, in this case, <code>df</code>, and the name of the multiple column headers enclosed in double brackets. The result is a new dataframe comprised of the specified columns:"
        },
        {
            "metadata": {},
            "cell_type": "code",
            "source": "# Access to multiple columns\n\ny = df[['Artist','Length','Genre']]\ny",
            "execution_count": 10,
            "outputs": [
                {
                    "output_type": "execute_result",
                    "execution_count": 10,
                    "data": {
                        "text/plain": "            Artist    Length                        Genre\n0  Michael Jackson  00:42:19               pop, rock, R&B\n1            AC/DC  00:42:11                    hard rock\n2       Pink Floyd  00:42:49             progressive rock\n3  Whitney Houston  00:57:44               R&B, soul, pop\n4        Meat Loaf  00:46:33  hard rock, progressive rock\n5           Eagles  00:43:08   rock, soft rock, folk rock\n6         Bee Gees  01:15:54                        disco\n7    Fleetwood Mac  00:40:01                    soft rock",
                        "text/html": "<div>\n<style scoped>\n    .dataframe tbody tr th:only-of-type {\n        vertical-align: middle;\n    }\n\n    .dataframe tbody tr th {\n        vertical-align: top;\n    }\n\n    .dataframe thead th {\n        text-align: right;\n    }\n</style>\n<table border=\"1\" class=\"dataframe\">\n  <thead>\n    <tr style=\"text-align: right;\">\n      <th></th>\n      <th>Artist</th>\n      <th>Length</th>\n      <th>Genre</th>\n    </tr>\n  </thead>\n  <tbody>\n    <tr>\n      <th>0</th>\n      <td>Michael Jackson</td>\n      <td>00:42:19</td>\n      <td>pop, rock, R&amp;B</td>\n    </tr>\n    <tr>\n      <th>1</th>\n      <td>AC/DC</td>\n      <td>00:42:11</td>\n      <td>hard rock</td>\n    </tr>\n    <tr>\n      <th>2</th>\n      <td>Pink Floyd</td>\n      <td>00:42:49</td>\n      <td>progressive rock</td>\n    </tr>\n    <tr>\n      <th>3</th>\n      <td>Whitney Houston</td>\n      <td>00:57:44</td>\n      <td>R&amp;B, soul, pop</td>\n    </tr>\n    <tr>\n      <th>4</th>\n      <td>Meat Loaf</td>\n      <td>00:46:33</td>\n      <td>hard rock, progressive rock</td>\n    </tr>\n    <tr>\n      <th>5</th>\n      <td>Eagles</td>\n      <td>00:43:08</td>\n      <td>rock, soft rock, folk rock</td>\n    </tr>\n    <tr>\n      <th>6</th>\n      <td>Bee Gees</td>\n      <td>01:15:54</td>\n      <td>disco</td>\n    </tr>\n    <tr>\n      <th>7</th>\n      <td>Fleetwood Mac</td>\n      <td>00:40:01</td>\n      <td>soft rock</td>\n    </tr>\n  </tbody>\n</table>\n</div>"
                    },
                    "metadata": {}
                }
            ]
        },
        {
            "metadata": {},
            "cell_type": "code",
            "source": "df",
            "execution_count": 23,
            "outputs": [
                {
                    "output_type": "execute_result",
                    "execution_count": 23,
                    "data": {
                        "text/plain": "            Artist                            Album  Released    Length  \\\n0  Michael Jackson                         Thriller      1982  00:42:19   \n1            AC/DC                    Back in Black      1980  00:42:11   \n2       Pink Floyd        The Dark Side of the Moon      1973  00:42:49   \n3  Whitney Houston                    The Bodyguard      1992  00:57:44   \n4        Meat Loaf                  Bat Out of Hell      1977  00:46:33   \n5           Eagles  Their Greatest Hits (1971-1975)      1976  00:43:08   \n6         Bee Gees             Saturday Night Fever      1977  01:15:54   \n7    Fleetwood Mac                          Rumours      1977  00:40:01   \n\n                         Genre  Music Recording Sales (millions)  \\\n0               pop, rock, R&B                              46.0   \n1                    hard rock                              26.1   \n2             progressive rock                              24.2   \n3               R&B, soul, pop                              27.4   \n4  hard rock, progressive rock                              20.6   \n5   rock, soft rock, folk rock                              32.2   \n6                        disco                              20.6   \n7                    soft rock                              27.9   \n\n   Claimed Sales (millions) Released.1 Soundtrack  Rating  \n0                        65 1982-11-30        NaN    10.0  \n1                        50 1980-07-25        NaN     9.5  \n2                        45 1973-03-01        NaN     9.0  \n3                        44 1992-11-17          Y     8.5  \n4                        43 1977-10-21        NaN     8.0  \n5                        42 1976-02-17        NaN     7.5  \n6                        40 1977-11-15          Y     7.0  \n7                        40 1977-02-04        NaN     6.5  ",
                        "text/html": "<div>\n<style scoped>\n    .dataframe tbody tr th:only-of-type {\n        vertical-align: middle;\n    }\n\n    .dataframe tbody tr th {\n        vertical-align: top;\n    }\n\n    .dataframe thead th {\n        text-align: right;\n    }\n</style>\n<table border=\"1\" class=\"dataframe\">\n  <thead>\n    <tr style=\"text-align: right;\">\n      <th></th>\n      <th>Artist</th>\n      <th>Album</th>\n      <th>Released</th>\n      <th>Length</th>\n      <th>Genre</th>\n      <th>Music Recording Sales (millions)</th>\n      <th>Claimed Sales (millions)</th>\n      <th>Released.1</th>\n      <th>Soundtrack</th>\n      <th>Rating</th>\n    </tr>\n  </thead>\n  <tbody>\n    <tr>\n      <th>0</th>\n      <td>Michael Jackson</td>\n      <td>Thriller</td>\n      <td>1982</td>\n      <td>00:42:19</td>\n      <td>pop, rock, R&amp;B</td>\n      <td>46.0</td>\n      <td>65</td>\n      <td>1982-11-30</td>\n      <td>NaN</td>\n      <td>10.0</td>\n    </tr>\n    <tr>\n      <th>1</th>\n      <td>AC/DC</td>\n      <td>Back in Black</td>\n      <td>1980</td>\n      <td>00:42:11</td>\n      <td>hard rock</td>\n      <td>26.1</td>\n      <td>50</td>\n      <td>1980-07-25</td>\n      <td>NaN</td>\n      <td>9.5</td>\n    </tr>\n    <tr>\n      <th>2</th>\n      <td>Pink Floyd</td>\n      <td>The Dark Side of the Moon</td>\n      <td>1973</td>\n      <td>00:42:49</td>\n      <td>progressive rock</td>\n      <td>24.2</td>\n      <td>45</td>\n      <td>1973-03-01</td>\n      <td>NaN</td>\n      <td>9.0</td>\n    </tr>\n    <tr>\n      <th>3</th>\n      <td>Whitney Houston</td>\n      <td>The Bodyguard</td>\n      <td>1992</td>\n      <td>00:57:44</td>\n      <td>R&amp;B, soul, pop</td>\n      <td>27.4</td>\n      <td>44</td>\n      <td>1992-11-17</td>\n      <td>Y</td>\n      <td>8.5</td>\n    </tr>\n    <tr>\n      <th>4</th>\n      <td>Meat Loaf</td>\n      <td>Bat Out of Hell</td>\n      <td>1977</td>\n      <td>00:46:33</td>\n      <td>hard rock, progressive rock</td>\n      <td>20.6</td>\n      <td>43</td>\n      <td>1977-10-21</td>\n      <td>NaN</td>\n      <td>8.0</td>\n    </tr>\n    <tr>\n      <th>5</th>\n      <td>Eagles</td>\n      <td>Their Greatest Hits (1971-1975)</td>\n      <td>1976</td>\n      <td>00:43:08</td>\n      <td>rock, soft rock, folk rock</td>\n      <td>32.2</td>\n      <td>42</td>\n      <td>1976-02-17</td>\n      <td>NaN</td>\n      <td>7.5</td>\n    </tr>\n    <tr>\n      <th>6</th>\n      <td>Bee Gees</td>\n      <td>Saturday Night Fever</td>\n      <td>1977</td>\n      <td>01:15:54</td>\n      <td>disco</td>\n      <td>20.6</td>\n      <td>40</td>\n      <td>1977-11-15</td>\n      <td>Y</td>\n      <td>7.0</td>\n    </tr>\n    <tr>\n      <th>7</th>\n      <td>Fleetwood Mac</td>\n      <td>Rumours</td>\n      <td>1977</td>\n      <td>00:40:01</td>\n      <td>soft rock</td>\n      <td>27.9</td>\n      <td>40</td>\n      <td>1977-02-04</td>\n      <td>NaN</td>\n      <td>6.5</td>\n    </tr>\n  </tbody>\n</table>\n</div>"
                    },
                    "metadata": {}
                }
            ]
        },
        {
            "metadata": {},
            "cell_type": "code",
            "source": "df.iloc[0,2]",
            "execution_count": 25,
            "outputs": [
                {
                    "output_type": "execute_result",
                    "execution_count": 25,
                    "data": {
                        "text/plain": "1982"
                    },
                    "metadata": {}
                }
            ]
        },
        {
            "metadata": {},
            "cell_type": "markdown",
            "source": "The process is shown in the figure:"
        },
        {
            "metadata": {},
            "cell_type": "markdown",
            "source": "<img src = \"https://s3-api.us-geo.objectstorage.softlayer.net/cf-courses-data/CognitiveClass/PY0101EN/Chapter%204/Images/DataEgTwo.png\" width=\"1100\" />"
        },
        {
            "metadata": {},
            "cell_type": "markdown",
            "source": "One way to access unique elements is the <code>iloc</code> method, where you can access the 1st row and the 1st column as follows:"
        },
        {
            "metadata": {},
            "cell_type": "code",
            "source": "# Access the value on the first row and the first column\n\ndf.iloc[0, 0]",
            "execution_count": 11,
            "outputs": [
                {
                    "output_type": "execute_result",
                    "execution_count": 11,
                    "data": {
                        "text/plain": "'Michael Jackson'"
                    },
                    "metadata": {}
                }
            ]
        },
        {
            "metadata": {},
            "cell_type": "markdown",
            "source": "You can access the 2nd row and the 1st column as follows:"
        },
        {
            "metadata": {},
            "cell_type": "code",
            "source": "# Access the value on the second row and the first column\n\ndf.iloc[1,0]",
            "execution_count": 12,
            "outputs": [
                {
                    "output_type": "execute_result",
                    "execution_count": 12,
                    "data": {
                        "text/plain": "'AC/DC'"
                    },
                    "metadata": {}
                }
            ]
        },
        {
            "metadata": {},
            "cell_type": "markdown",
            "source": "You can access the 1st row and the 3rd column as follows: "
        },
        {
            "metadata": {},
            "cell_type": "code",
            "source": "# Access the value on the first row and the third column\n\ndf.iloc[0,2]",
            "execution_count": 13,
            "outputs": [
                {
                    "output_type": "execute_result",
                    "execution_count": 13,
                    "data": {
                        "text/plain": "1982"
                    },
                    "metadata": {}
                }
            ]
        },
        {
            "metadata": {},
            "cell_type": "markdown",
            "source": "You can access the column using the name as well, the following are the same as above: "
        },
        {
            "metadata": {},
            "cell_type": "code",
            "source": "# Access the column using the name\n\ndf.loc[0, 'Artist']",
            "execution_count": 14,
            "outputs": [
                {
                    "output_type": "execute_result",
                    "execution_count": 14,
                    "data": {
                        "text/plain": "'Michael Jackson'"
                    },
                    "metadata": {}
                }
            ]
        },
        {
            "metadata": {},
            "cell_type": "code",
            "source": "# Access the column using the name\n\ndf.loc[1, 'Artist']",
            "execution_count": 15,
            "outputs": [
                {
                    "output_type": "execute_result",
                    "execution_count": 15,
                    "data": {
                        "text/plain": "'AC/DC'"
                    },
                    "metadata": {}
                }
            ]
        },
        {
            "metadata": {},
            "cell_type": "code",
            "source": "# Access the column using the name\n\ndf.loc[0, 'Released']",
            "execution_count": 16,
            "outputs": [
                {
                    "output_type": "execute_result",
                    "execution_count": 16,
                    "data": {
                        "text/plain": "1982"
                    },
                    "metadata": {}
                }
            ]
        },
        {
            "metadata": {},
            "cell_type": "code",
            "source": "# Access the column using the name\n\ndf.loc[1, 'Released']",
            "execution_count": null,
            "outputs": []
        },
        {
            "metadata": {},
            "cell_type": "markdown",
            "source": "You can perform slicing using both the index and the name of the column:"
        },
        {
            "metadata": {},
            "cell_type": "code",
            "source": "# Slicing the dataframe\n\ndf.iloc[0:2, 0:3]",
            "execution_count": 17,
            "outputs": [
                {
                    "output_type": "execute_result",
                    "execution_count": 17,
                    "data": {
                        "text/plain": "            Artist          Album  Released\n0  Michael Jackson       Thriller      1982\n1            AC/DC  Back in Black      1980",
                        "text/html": "<div>\n<style scoped>\n    .dataframe tbody tr th:only-of-type {\n        vertical-align: middle;\n    }\n\n    .dataframe tbody tr th {\n        vertical-align: top;\n    }\n\n    .dataframe thead th {\n        text-align: right;\n    }\n</style>\n<table border=\"1\" class=\"dataframe\">\n  <thead>\n    <tr style=\"text-align: right;\">\n      <th></th>\n      <th>Artist</th>\n      <th>Album</th>\n      <th>Released</th>\n    </tr>\n  </thead>\n  <tbody>\n    <tr>\n      <th>0</th>\n      <td>Michael Jackson</td>\n      <td>Thriller</td>\n      <td>1982</td>\n    </tr>\n    <tr>\n      <th>1</th>\n      <td>AC/DC</td>\n      <td>Back in Black</td>\n      <td>1980</td>\n    </tr>\n  </tbody>\n</table>\n</div>"
                    },
                    "metadata": {}
                }
            ]
        },
        {
            "metadata": {},
            "cell_type": "code",
            "source": "# Slicing the dataframe using name\n\ndf.loc[0:2, 'Artist':'Released']",
            "execution_count": 18,
            "outputs": [
                {
                    "output_type": "execute_result",
                    "execution_count": 18,
                    "data": {
                        "text/plain": "            Artist                      Album  Released\n0  Michael Jackson                   Thriller      1982\n1            AC/DC              Back in Black      1980\n2       Pink Floyd  The Dark Side of the Moon      1973",
                        "text/html": "<div>\n<style scoped>\n    .dataframe tbody tr th:only-of-type {\n        vertical-align: middle;\n    }\n\n    .dataframe tbody tr th {\n        vertical-align: top;\n    }\n\n    .dataframe thead th {\n        text-align: right;\n    }\n</style>\n<table border=\"1\" class=\"dataframe\">\n  <thead>\n    <tr style=\"text-align: right;\">\n      <th></th>\n      <th>Artist</th>\n      <th>Album</th>\n      <th>Released</th>\n    </tr>\n  </thead>\n  <tbody>\n    <tr>\n      <th>0</th>\n      <td>Michael Jackson</td>\n      <td>Thriller</td>\n      <td>1982</td>\n    </tr>\n    <tr>\n      <th>1</th>\n      <td>AC/DC</td>\n      <td>Back in Black</td>\n      <td>1980</td>\n    </tr>\n    <tr>\n      <th>2</th>\n      <td>Pink Floyd</td>\n      <td>The Dark Side of the Moon</td>\n      <td>1973</td>\n    </tr>\n  </tbody>\n</table>\n</div>"
                    },
                    "metadata": {}
                }
            ]
        },
        {
            "metadata": {},
            "cell_type": "markdown",
            "source": "<hr>"
        },
        {
            "metadata": {},
            "cell_type": "markdown",
            "source": "<h2 id=\"quiz\">Quiz on DataFrame</h2>"
        },
        {
            "metadata": {},
            "cell_type": "markdown",
            "source": "Use a variable <code>q</code> to store the column <b>Rating</b> as a dataframe"
        },
        {
            "metadata": {},
            "cell_type": "code",
            "source": "# Write your code below and press Shift+Enter to execute\nq=df[['Rating']]\nq",
            "execution_count": 19,
            "outputs": [
                {
                    "output_type": "execute_result",
                    "execution_count": 19,
                    "data": {
                        "text/plain": "   Rating\n0    10.0\n1     9.5\n2     9.0\n3     8.5\n4     8.0\n5     7.5\n6     7.0\n7     6.5",
                        "text/html": "<div>\n<style scoped>\n    .dataframe tbody tr th:only-of-type {\n        vertical-align: middle;\n    }\n\n    .dataframe tbody tr th {\n        vertical-align: top;\n    }\n\n    .dataframe thead th {\n        text-align: right;\n    }\n</style>\n<table border=\"1\" class=\"dataframe\">\n  <thead>\n    <tr style=\"text-align: right;\">\n      <th></th>\n      <th>Rating</th>\n    </tr>\n  </thead>\n  <tbody>\n    <tr>\n      <th>0</th>\n      <td>10.0</td>\n    </tr>\n    <tr>\n      <th>1</th>\n      <td>9.5</td>\n    </tr>\n    <tr>\n      <th>2</th>\n      <td>9.0</td>\n    </tr>\n    <tr>\n      <th>3</th>\n      <td>8.5</td>\n    </tr>\n    <tr>\n      <th>4</th>\n      <td>8.0</td>\n    </tr>\n    <tr>\n      <th>5</th>\n      <td>7.5</td>\n    </tr>\n    <tr>\n      <th>6</th>\n      <td>7.0</td>\n    </tr>\n    <tr>\n      <th>7</th>\n      <td>6.5</td>\n    </tr>\n  </tbody>\n</table>\n</div>"
                    },
                    "metadata": {}
                }
            ]
        },
        {
            "metadata": {},
            "cell_type": "markdown",
            "source": "Double-click __here__ for the solution.\n\n<!-- Your answer is below:\nq = df[['Rating']]\nq\n-->"
        },
        {
            "metadata": {},
            "cell_type": "markdown",
            "source": "Assign the variable <code>q</code> to the dataframe that is made up of the column <b>Released</b> and <b>Artist</b>:"
        },
        {
            "metadata": {},
            "cell_type": "code",
            "source": "# Write your code below and press Shift+Enter to execute\nq=df[['Released','Artist']]\nq",
            "execution_count": 20,
            "outputs": [
                {
                    "output_type": "execute_result",
                    "execution_count": 20,
                    "data": {
                        "text/plain": "   Released           Artist\n0      1982  Michael Jackson\n1      1980            AC/DC\n2      1973       Pink Floyd\n3      1992  Whitney Houston\n4      1977        Meat Loaf\n5      1976           Eagles\n6      1977         Bee Gees\n7      1977    Fleetwood Mac",
                        "text/html": "<div>\n<style scoped>\n    .dataframe tbody tr th:only-of-type {\n        vertical-align: middle;\n    }\n\n    .dataframe tbody tr th {\n        vertical-align: top;\n    }\n\n    .dataframe thead th {\n        text-align: right;\n    }\n</style>\n<table border=\"1\" class=\"dataframe\">\n  <thead>\n    <tr style=\"text-align: right;\">\n      <th></th>\n      <th>Released</th>\n      <th>Artist</th>\n    </tr>\n  </thead>\n  <tbody>\n    <tr>\n      <th>0</th>\n      <td>1982</td>\n      <td>Michael Jackson</td>\n    </tr>\n    <tr>\n      <th>1</th>\n      <td>1980</td>\n      <td>AC/DC</td>\n    </tr>\n    <tr>\n      <th>2</th>\n      <td>1973</td>\n      <td>Pink Floyd</td>\n    </tr>\n    <tr>\n      <th>3</th>\n      <td>1992</td>\n      <td>Whitney Houston</td>\n    </tr>\n    <tr>\n      <th>4</th>\n      <td>1977</td>\n      <td>Meat Loaf</td>\n    </tr>\n    <tr>\n      <th>5</th>\n      <td>1976</td>\n      <td>Eagles</td>\n    </tr>\n    <tr>\n      <th>6</th>\n      <td>1977</td>\n      <td>Bee Gees</td>\n    </tr>\n    <tr>\n      <th>7</th>\n      <td>1977</td>\n      <td>Fleetwood Mac</td>\n    </tr>\n  </tbody>\n</table>\n</div>"
                    },
                    "metadata": {}
                }
            ]
        },
        {
            "metadata": {},
            "cell_type": "markdown",
            "source": "Double-click __here__ for the solution.\n\n<!-- Your answer is below:\nq = df[['Released', 'Artist']]\nq\n-->"
        },
        {
            "metadata": {},
            "cell_type": "markdown",
            "source": "Access the 2nd row and the 3rd column of <code>df</code>:"
        },
        {
            "metadata": {},
            "cell_type": "code",
            "source": "# Write your code below and press Shift+Enter to execute\ndf.iloc[1,2]",
            "execution_count": 21,
            "outputs": [
                {
                    "output_type": "execute_result",
                    "execution_count": 21,
                    "data": {
                        "text/plain": "1980"
                    },
                    "metadata": {}
                }
            ]
        },
        {
            "metadata": {},
            "cell_type": "markdown",
            "source": "Double-click __here__ for the solution.\n\n<!-- Your answer is below:\ndf.iloc[1, 2]\n-->"
        },
        {
            "metadata": {},
            "cell_type": "markdown",
            "source": "<hr>\n<h2>The last exercise!</h2>\n<p>Congratulations, you have completed your first lesson and hands-on lab in Python. However, there is one more thing you need to do. The Data Science community encourages sharing work. The best way to share and showcase your work is to share it on GitHub. By sharing your notebook on GitHub you are not only building your reputation with fellow data scientists, but you can also show it off when applying for a job. Even though this was your first piece of work, it is never too early to start building good habits. So, please read and follow <a href=\"https://cognitiveclass.ai/blog/data-scientists-stand-out-by-sharing-your-notebooks/\" target=\"_blank\">this article</a> to learn how to share your work.\n<hr>"
        },
        {
            "metadata": {},
            "cell_type": "markdown",
            "source": "<div class=\"alert alert-block alert-info\" style=\"margin-top: 20px\">\n<h2>Get IBM Watson Studio free of charge!</h2>\n    <p><a href=\"https://cocl.us/PY0101EN_edx_add_bbottom\"><img src=\"https://s3-api.us-geo.objectstorage.softlayer.net/cf-courses-data/CognitiveClass/PY0101EN/Ad/BottomAd.png\" width=\"750\" align=\"center\"></a></p>\n</div>"
        },
        {
            "metadata": {},
            "cell_type": "markdown",
            "source": "<h3>About the Authors:</h3>  \n<p><a href=\"https://www.linkedin.com/in/joseph-s-50398b136/\" target=\"_blank\">Joseph Santarcangelo</a> is a Data Scientist at IBM, and holds a PhD in Electrical Engineering. His research focused on using Machine Learning, Signal Processing, and Computer Vision to determine how videos impact human cognition. Joseph has been working for IBM since he completed his PhD.</p>"
        },
        {
            "metadata": {},
            "cell_type": "markdown",
            "source": "Other contributors: <a href=\"www.linkedin.com/in/jiahui-mavis-zhou-a4537814a\">Mavis Zhou</a>"
        },
        {
            "metadata": {},
            "cell_type": "markdown",
            "source": "<hr>"
        },
        {
            "metadata": {},
            "cell_type": "markdown",
            "source": "<p>Copyright &copy; 2018 IBM Developer Skills Network. This notebook and its source code are released under the terms of the <a href=\"https://cognitiveclass.ai/mit-license/\">MIT License</a>.</p>"
        },
        {
            "metadata": {},
            "cell_type": "code",
            "source": "{ \"cells\": [ { \"cell_type\": \"markdown\", \"metadata\": {}, \"source\": [ \"\n\\n\", \" \\n\", \" \\n\", \" \\n\", \"\n\" ] }, { \"cell_type\": \"markdown\", \"metadata\": {}, \"source\": [ \"\\n\", \" \\n\", \"\" ] }, { \"cell_type\": \"markdown\", \"metadata\": {}, \"source\": [ \"\n1D Numpy in Python\n\" ] }, { \"cell_type\": \"markdown\", \"metadata\": {}, \"source\": [ \"\nWelcome! This notebook will teach you about using Numpy in the Python Programming Language. By the end of this lab, you'll know what Numpy is and the Numpy operations.\n\" ] }, { \"cell_type\": \"markdown\", \"metadata\": {}, \"source\": [ \"\nTable of Contents\n\\n\", \"\n\\n\", \" \n\\n\", \" \nPreparation\n\\n\", \" \n\\n\", \" What is Numpy?\\n\", \" \n\\n\", \" \nType\n\\n\", \" \nAssign Value\n\\n\", \" \nSlicing\n\\n\", \" \nAssign Value with List\n\\n\", \" \nOther Attributes\n\\n\", \" \n\\n\", \" \n\\n\", \" \n\\n\", \" Numpy Array Operations\\n\", \" \n\\n\", \" \nArray Addition\n\\n\", \" \nArray Multiplication\n\\n\", \" \nProduct of Two Numpy Arrays\n\\n\", \" \nDot Product\n\\n\", \" \nAdding Constant to a Numpy Array\n\\n\", \" \n\\n\", \" \n\\n\", \" \nMathematical Functions\n\\n\", \" \nLinspace\n\\n\", \" \n\\n\", \" \n\\n\", \" Estimated time needed: 30 min\\n\", \" \n\\n\", \"\n\\n\", \"\\n\", \"\n\n\" ] }, { \"cell_type\": \"markdown\", \"metadata\": {}, \"source\": [ \"\nPreparation\n\" ] }, { \"cell_type\": \"code\", \"execution_count\": null, \"metadata\": { \"collapsed\": true }, \"outputs\": [], \"source\": [ \"# Import the libraries\\n\", \"\\n\", \"import time \\n\", \"import sys\\n\", \"import numpy as np \\n\", \"\\n\", \"import matplotlib.pyplot as plt\\n\", \"%matplotlib inline \" ] }, { \"cell_type\": \"code\", \"execution_count\": null, \"metadata\": { \"collapsed\": false }, \"outputs\": [], \"source\": [ \"# Plotting functions\\n\", \"\\n\", \"def Plotvec1(u, z, v):\\n\", \" \\n\", \" ax = plt.axes()\\n\", \" ax.arrow(0, 0, *u, head_width=0.05, color='r', head_length=0.1)\\n\", \" plt.text(*(u + 0.1), 'u')\\n\", \" \\n\", \" ax.arrow(0, 0, *v, head_width=0.05, color='b', head_length=0.1)\\n\", \" plt.text(*(v + 0.1), 'v')\\n\", \" ax.arrow(0, 0, *z, head_width=0.05, head_length=0.1)\\n\", \" plt.text(*(z + 0.1), 'z')\\n\", \" plt.ylim(-2, 2)\\n\", \" plt.xlim(-2, 2)\\n\", \"\\n\", \"def Plotvec2(a,b):\\n\", \" ax = plt.axes()\\n\", \" ax.arrow(0, 0, *a, head_width=0.05, color ='r', head_length=0.1)\\n\", \" plt.text(*(a + 0.1), 'a')\\n\", \" ax.arrow(0, 0, *b, head_width=0.05, color ='b', head_length=0.1)\\n\", \" plt.text(*(b + 0.1), 'b')\\n\", \" plt.ylim(-2, 2)\\n\", \" plt.xlim(-2, 2)\" ] }, { \"cell_type\": \"markdown\", \"metadata\": {}, \"source\": [ \"Create a Python List as follows:\" ] }, { \"cell_type\": \"code\", \"execution_count\": null, \"metadata\": { \"collapsed\": false }, \"outputs\": [], \"source\": [ \"# Create a python list\\n\", \"\\n\", \"a = [\\\"0\\\", 1, \\\"two\\\", \\\"3\\\", 4]\" ] }, { \"cell_type\": \"markdown\", \"metadata\": {}, \"source\": [ \"We can access the data via an index:\" ] }, { \"cell_type\": \"markdown\", \"metadata\": {}, \"source\": [ \"\" ] }, { \"cell_type\": \"markdown\", \"metadata\": {}, \"source\": [ \"We can access each element using a square bracket as follows: \" ] }, { \"cell_type\": \"code\", \"execution_count\": null, \"metadata\": { \"collapsed\": false }, \"outputs\": [], \"source\": [ \"# Print each element\\n\", \"\\n\", \"print(\\\"a[0]:\\\", a[0])\\n\", \"print(\\\"a[1]:\\\", a[1])\\n\", \"print(\\\"a[2]:\\\", a[2])\\n\", \"print(\\\"a[3]:\\\", a[3])\\n\", \"print(\\\"a[4]:\\\", a[4])\" ] }, { \"cell_type\": \"markdown\", \"metadata\": {}, \"source\": [ \"\n\n\" ] }, { \"cell_type\": \"markdown\", \"metadata\": {}, \"source\": [ \"\nWhat is Numpy?\n\" ] }, { \"cell_type\": \"markdown\", \"metadata\": {}, \"source\": [ \"A numpy array is similar to a list. It's usually fixed in size and each element is of the same type. We can cast a list to a numpy array by first importing numpy: \" ] }, { \"cell_type\": \"code\", \"execution_count\": null, \"metadata\": { \"collapsed\": false }, \"outputs\": [], \"source\": [ \"# import numpy library\\n\", \"\\n\", \"import numpy as np \" ] }, { \"cell_type\": \"markdown\", \"metadata\": {}, \"source\": [ \" We then cast the list as follows:\" ] }, { \"cell_type\": \"code\", \"execution_count\": null, \"metadata\": { \"collapsed\": false }, \"outputs\": [], \"source\": [ \"# Create a numpy array\\n\", \"\\n\", \"a = np.array([0, 1, 2, 3, 4])\\n\", \"a\" ] }, { \"cell_type\": \"markdown\", \"metadata\": {}, \"source\": [ \"Each element is of the same type, in this case integers: \" ] }, { \"cell_type\": \"markdown\", \"metadata\": {}, \"source\": [ \"\" ] }, { \"cell_type\": \"markdown\", \"metadata\": {}, \"source\": [ \" As with lists, we can access each element via a square bracket:\" ] }, { \"cell_type\": \"code\", \"execution_count\": null, \"metadata\": { \"collapsed\": false }, \"outputs\": [], \"source\": [ \"# Print each element\\n\", \"\\n\", \"print(\\\"a[0]:\\\", a[0])\\n\", \"print(\\\"a[1]:\\\", a[1])\\n\", \"print(\\\"a[2]:\\\", a[2])\\n\", \"print(\\\"a[3]:\\\", a[3])\\n\", \"print(\\\"a[4]:\\\", a[4])\" ] }, { \"cell_type\": \"markdown\", \"metadata\": {}, \"source\": [ \"\nType\n\" ] }, { \"cell_type\": \"markdown\", \"metadata\": {}, \"source\": [ \"If we check the type of the array we get numpy.ndarray:\" ] }, { \"cell_type\": \"code\", \"execution_count\": null, \"metadata\": { \"collapsed\": false }, \"outputs\": [], \"source\": [ \"# Check the type of the array\\n\", \"\\n\", \"type(a)\" ] }, { \"cell_type\": \"markdown\", \"metadata\": {}, \"source\": [ \"As numpy arrays contain data of the same type, we can use the attribute \\\"dtype\\\" to obtain the Data-type of the array\u00e2\u20ac\u2122s elements. In this case a 64-bit integer: \\n\" ] }, { \"cell_type\": \"code\", \"execution_count\": null, \"metadata\": { \"collapsed\": false }, \"outputs\": [], \"source\": [ \"# Check the type of the values stored in numpy array\\n\", \"\\n\", \"a.dtype\" ] }, { \"cell_type\": \"markdown\", \"metadata\": {}, \"source\": [ \"We can create a numpy array with real numbers:\" ] }, { \"cell_type\": \"code\", \"execution_count\": null, \"metadata\": { \"collapsed\": false }, \"outputs\": [], \"source\": [ \"# Create a numpy array\\n\", \"\\n\", \"b = np.array([3.1, 11.02, 6.2, 213.2, 5.2])\" ] }, { \"cell_type\": \"markdown\", \"metadata\": {}, \"source\": [ \"When we check the type of the array we get numpy.ndarray:\" ] }, { \"cell_type\": \"code\", \"execution_count\": null, \"metadata\": { \"collapsed\": false }, \"outputs\": [], \"source\": [ \"# Check the type of array\\n\", \"\\n\", \"type(b)\" ] }, { \"cell_type\": \"markdown\", \"metadata\": {}, \"source\": [ \"If we examine the attribute dtype we see float 64, as the elements are not integers: \" ] }, { \"cell_type\": \"code\", \"execution_count\": null, \"metadata\": { \"collapsed\": false }, \"outputs\": [], \"source\": [ \"# Check the value type\\n\", \"\\n\", \"b.dtype\" ] }, { \"cell_type\": \"markdown\", \"metadata\": {}, \"source\": [ \"\nAssign value\n\" ] }, { \"cell_type\": \"markdown\", \"metadata\": {}, \"source\": [ \"We can change the value of the array, consider the array c:\" ] }, { \"cell_type\": \"code\", \"execution_count\": null, \"metadata\": { \"collapsed\": false }, \"outputs\": [], \"source\": [ \"# Create numpy array\\n\", \"\\n\", \"c = np.array([20, 1, 2, 3, 4])\\n\", \"c\" ] }, { \"cell_type\": \"markdown\", \"metadata\": {}, \"source\": [ \"We can change the first element of the array to 100 as follows:\" ] }, { \"cell_type\": \"code\", \"execution_count\": null, \"metadata\": { \"collapsed\": false }, \"outputs\": [], \"source\": [ \"# Assign the first element to 100\\n\", \"\\n\", \"c[0] = 100\\n\", \"c\" ] }, { \"cell_type\": \"markdown\", \"metadata\": {}, \"source\": [ \"We can change the 5th element of the array to 0 as follows:\" ] }, { \"cell_type\": \"code\", \"execution_count\": null, \"metadata\": { \"collapsed\": false }, \"outputs\": [], \"source\": [ \"# Assign the 5th element to 0\\n\", \"\\n\", \"c[4] = 0\\n\", \"c\" ] }, { \"cell_type\": \"markdown\", \"metadata\": {}, \"source\": [ \"\nSlicing\n\" ] }, { \"cell_type\": \"markdown\", \"metadata\": {}, \"source\": [ \"Like lists, we can slice the numpy array, and we can select the elements from 1 to 3 and assign it to a new numpy array d as follows:\" ] }, { \"cell_type\": \"code\", \"execution_count\": null, \"metadata\": { \"collapsed\": false }, \"outputs\": [], \"source\": [ \"# Slicing the numpy array\\n\", \"\\n\", \"d = c[1:4]\\n\", \"d\" ] }, { \"cell_type\": \"markdown\", \"metadata\": {}, \"source\": [ \"We can assign the corresponding indexes to new values as follows: \" ] }, { \"cell_type\": \"code\", \"execution_count\": null, \"metadata\": { \"collapsed\": false }, \"outputs\": [], \"source\": [ \"# Set the fourth element and fifth element to 300 and 400\\n\", \"\\n\", \"c[3:5] = 300, 400\\n\", \"c\" ] }, { \"cell_type\": \"markdown\", \"metadata\": {}, \"source\": [ \"\nAssign Value with List\n\" ] }, { \"cell_type\": \"markdown\", \"metadata\": {}, \"source\": [ \"Similarly, we can use a list to select a specific index.\\n\", \"The list ' select ' contains several values:\\n\" ] }, { \"cell_type\": \"code\", \"execution_count\": null, \"metadata\": { \"collapsed\": true }, \"outputs\": [], \"source\": [ \"# Create the index list\\n\", \"\\n\", \"select = [0, 2, 3]\" ] }, { \"cell_type\": \"markdown\", \"metadata\": {}, \"source\": [ \"We can use the list as an argument in the brackets. The output is the elements corresponding to the particular index:\" ] }, { \"cell_type\": \"code\", \"execution_count\": null, \"metadata\": { \"collapsed\": false }, \"outputs\": [], \"source\": [ \"# Use List to select elements\\n\", \"\\n\", \"d = c[select]\\n\", \"d\" ] }, { \"cell_type\": \"markdown\", \"metadata\": {}, \"source\": [ \"We can assign the specified elements to a new value. For example, we can assign the values to 100 000 as follows:\" ] }, { \"cell_type\": \"code\", \"execution_count\": null, \"metadata\": { \"collapsed\": false }, \"outputs\": [], \"source\": [ \"# Assign the specified elements to new value\\n\", \"\\n\", \"c[select] = 100000\\n\", \"c\" ] }, { \"cell_type\": \"markdown\", \"metadata\": {}, \"source\": [ \"\nOther Attributes\n\" ] }, { \"cell_type\": \"markdown\", \"metadata\": {}, \"source\": [ \"Let's review some basic array attributes using the array a:\" ] }, { \"cell_type\": \"code\", \"execution_count\": null, \"metadata\": { \"collapsed\": false }, \"outputs\": [], \"source\": [ \"# Create a numpy array\\n\", \"\\n\", \"a = np.array([0, 1, 2, 3, 4])\\n\", \"a\" ] }, { \"cell_type\": \"markdown\", \"metadata\": {}, \"source\": [ \"The attribute size is the number of elements in the array:\" ] }, { \"cell_type\": \"code\", \"execution_count\": null, \"metadata\": { \"collapsed\": false }, \"outputs\": [], \"source\": [ \"# Get the size of numpy array\\n\", \"\\n\", \"a.size\" ] }, { \"cell_type\": \"markdown\", \"metadata\": {}, \"source\": [ \"The next two attributes will make more sense when we get to higher dimensions but let's review them. The attribute ndim represents the number of array dimensions or the rank of the array, in this case, one:\" ] }, { \"cell_type\": \"code\", \"execution_count\": null, \"metadata\": { \"collapsed\": false }, \"outputs\": [], \"source\": [ \"# Get the number of dimensions of numpy array\\n\", \"\\n\", \"a.ndim\" ] }, { \"cell_type\": \"markdown\", \"metadata\": {}, \"source\": [ \"The attribute shape is a tuple of integers indicating the size of the array in each dimension:\" ] }, { \"cell_type\": \"code\", \"execution_count\": null, \"metadata\": { \"collapsed\": false }, \"outputs\": [], \"source\": [ \"# Get the shape/size of numpy array\\n\", \"\\n\", \"a.shape\" ] }, { \"cell_type\": \"code\", \"execution_count\": null, \"metadata\": { \"collapsed\": true }, \"outputs\": [], \"source\": [ \"# Create a numpy array\\n\", \"\\n\", \"a = np.array([1, -1, 1, -1])\" ] }, { \"cell_type\": \"code\", \"execution_count\": null, \"metadata\": { \"collapsed\": false }, \"outputs\": [], \"source\": [ \"# Get the mean of numpy array\\n\", \"\\n\", \"mean = a.mean()\\n\", \"mean\" ] }, { \"cell_type\": \"code\", \"execution_count\": null, \"metadata\": { \"collapsed\": false }, \"outputs\": [], \"source\": [ \"# Get the standard deviation of numpy array\\n\", \"\\n\", \"standard_deviation=a.std()\\n\", \"standard_deviation\" ] }, { \"cell_type\": \"code\", \"execution_count\": null, \"metadata\": { \"collapsed\": false }, \"outputs\": [], \"source\": [ \"# Create a numpy array\\n\", \"\\n\", \"b = np.array([-1, 2, 3, 4, 5])\\n\", \"b\" ] }, { \"cell_type\": \"code\", \"execution_count\": null, \"metadata\": { \"collapsed\": false }, \"outputs\": [], \"source\": [ \"# Get the biggest value in the numpy array\\n\", \"\\n\", \"max_b = b.max()\\n\", \"max_b\" ] }, { \"cell_type\": \"code\", \"execution_count\": null, \"metadata\": { \"collapsed\": false }, \"outputs\": [], \"source\": [ \"# Get the smallest value in the numpy array\\n\", \"\\n\", \"min_b = b.min()\\n\", \"min_b\" ] }, { \"cell_type\": \"markdown\", \"metadata\": {}, \"source\": [ \"\n\n\" ] }, { \"cell_type\": \"markdown\", \"metadata\": {}, \"source\": [ \"\nNumpy Array Operations\n\" ] }, { \"cell_type\": \"markdown\", \"metadata\": {}, \"source\": [ \"\nArray Addition\n\" ] }, { \"cell_type\": \"markdown\", \"metadata\": {}, \"source\": [ \"Consider the numpy array u:\" ] }, { \"cell_type\": \"code\", \"execution_count\": null, \"metadata\": { \"collapsed\": false }, \"outputs\": [], \"source\": [ \"u = np.array([1, 0])\\n\", \"u\" ] }, { \"cell_type\": \"markdown\", \"metadata\": {}, \"source\": [ \"Consider the numpy array v:\" ] }, { \"cell_type\": \"code\", \"execution_count\": null, \"metadata\": { \"collapsed\": false }, \"outputs\": [], \"source\": [ \"v = np.array([0, 1])\\n\", \"v\" ] }, { \"cell_type\": \"markdown\", \"metadata\": {}, \"source\": [ \"We can add the two arrays and assign it to z:\" ] }, { \"cell_type\": \"code\", \"execution_count\": null, \"metadata\": { \"collapsed\": false }, \"outputs\": [], \"source\": [ \"# Numpy Array Addition\\n\", \"\\n\", \"z = u + v\\n\", \"z\" ] }, { \"cell_type\": \"markdown\", \"metadata\": {}, \"source\": [ \" The operation is equivalent to vector addition:\" ] }, { \"cell_type\": \"code\", \"execution_count\": null, \"metadata\": { \"collapsed\": false }, \"outputs\": [], \"source\": [ \"# Plot numpy arrays\\n\", \"\\n\", \"Plotvec1(u, z, v)\" ] }, { \"cell_type\": \"markdown\", \"metadata\": {}, \"source\": [ \"\nArray Multiplication\n\" ] }, { \"cell_type\": \"markdown\", \"metadata\": {}, \"source\": [ \"Consider the vector numpy array y:\" ] }, { \"cell_type\": \"code\", \"execution_count\": null, \"metadata\": { \"collapsed\": false }, \"outputs\": [], \"source\": [ \"# Create a numpy array\\n\", \"\\n\", \"y = np.array([1, 2])\\n\", \"y\" ] }, { \"cell_type\": \"markdown\", \"metadata\": {}, \"source\": [ \"We can multiply every element in the array by 2:\" ] }, { \"cell_type\": \"code\", \"execution_count\": null, \"metadata\": { \"collapsed\": false }, \"outputs\": [], \"source\": [ \"# Numpy Array Multiplication\\n\", \"\\n\", \"z = 2 * y\\n\", \"z\" ] }, { \"cell_type\": \"markdown\", \"metadata\": {}, \"source\": [ \" This is equivalent to multiplying a vector by a scaler: \" ] }, { \"cell_type\": \"markdown\", \"metadata\": {}, \"source\": [ \"\nProduct of Two Numpy Arrays\n\" ] }, { \"cell_type\": \"markdown\", \"metadata\": {}, \"source\": [ \"Consider the following array u:\" ] }, { \"cell_type\": \"code\", \"execution_count\": null, \"metadata\": { \"collapsed\": false }, \"outputs\": [], \"source\": [ \"# Create a numpy array\\n\", \"\\n\", \"u = np.array([1, 2])\\n\", \"u\" ] }, { \"cell_type\": \"markdown\", \"metadata\": {}, \"source\": [ \"Consider the following array v:\" ] }, { \"cell_type\": \"code\", \"execution_count\": null, \"metadata\": { \"collapsed\": false }, \"outputs\": [], \"source\": [ \"# Create a numpy array\\n\", \"\\n\", \"v = np.array([3, 2])\\n\", \"v\" ] }, { \"cell_type\": \"markdown\", \"metadata\": {}, \"source\": [ \" The product of the two numpy arrays u and v is given by:\" ] }, { \"cell_type\": \"code\", \"execution_count\": null, \"metadata\": { \"collapsed\": false }, \"outputs\": [], \"source\": [ \"# Calculate the production of two numpy arrays\\n\", \"\\n\", \"z = u * v\\n\", \"z\" ] }, { \"cell_type\": \"markdown\", \"metadata\": {}, \"source\": [ \"\nDot Product\n\" ] }, { \"cell_type\": \"markdown\", \"metadata\": {}, \"source\": [ \"The dot product of the two numpy arrays u and v is given by:\" ] }, { \"cell_type\": \"code\", \"execution_count\": null, \"metadata\": { \"collapsed\": false }, \"outputs\": [], \"source\": [ \"# Calculate the dot product\\n\", \"\\n\", \"np.dot(u, v)\" ] }, { \"cell_type\": \"markdown\", \"metadata\": {}, \"source\": [ \"\nAdding Constant to a Numpy Array\n\" ] }, { \"cell_type\": \"markdown\", \"metadata\": {}, \"source\": [ \"Consider the following array: \" ] }, { \"cell_type\": \"code\", \"execution_count\": null, \"metadata\": { \"collapsed\": false }, \"outputs\": [], \"source\": [ \"# Create a constant to numpy array\\n\", \"\\n\", \"u = np.array([1, 2, 3, -1]) \\n\", \"u\" ] }, { \"cell_type\": \"markdown\", \"metadata\": {}, \"source\": [ \"Adding the constant 1 to each element in the array:\" ] }, { \"cell_type\": \"code\", \"execution_count\": null, \"metadata\": { \"collapsed\": false }, \"outputs\": [], \"source\": [ \"# Add the constant to array\\n\", \"\\n\", \"u + 1\" ] }, { \"cell_type\": \"markdown\", \"metadata\": {}, \"source\": [ \" The process is summarised in the following animation:\" ] }, { \"cell_type\": \"markdown\", \"metadata\": {}, \"source\": [ \"\" ] }, { \"cell_type\": \"markdown\", \"metadata\": {}, \"source\": [ \"\n\n\" ] }, { \"cell_type\": \"markdown\", \"metadata\": {}, \"source\": [ \"\nMathematical Functions\n\" ] }, { \"cell_type\": \"markdown\", \"metadata\": {}, \"source\": [ \" We can access the value of pie in numpy as follows :\" ] }, { \"cell_type\": \"code\", \"execution_count\": null, \"metadata\": { \"collapsed\": false }, \"outputs\": [], \"source\": [ \"# The value of pie\\n\", \"\\n\", \"np.pi\" ] }, { \"cell_type\": \"markdown\", \"metadata\": {}, \"source\": [ \" We can create the following numpy array in Radians:\" ] }, { \"cell_type\": \"code\", \"execution_count\": null, \"metadata\": { \"collapsed\": false }, \"outputs\": [], \"source\": [ \"# Create the numpy array in radians\\n\", \"\\n\", \"x = np.array([0, np.pi/2 , np.pi])\" ] }, { \"cell_type\": \"markdown\", \"metadata\": {}, \"source\": [ \"We can apply the function sin to the array x and assign the values to the array y; this applies the sine function to each element in the array: \" ] }, { \"cell_type\": \"code\", \"execution_count\": null, \"metadata\": { \"collapsed\": false }, \"outputs\": [], \"source\": [ \"# Calculate the sin of each elements\\n\", \"\\n\", \"y = np.sin(x)\\n\", \"y\" ] }, { \"cell_type\": \"markdown\", \"metadata\": {}, \"source\": [ \"\n\n\" ] }, { \"cell_type\": \"markdown\", \"metadata\": {}, \"source\": [ \"\nLinspace\n\" ] }, { \"cell_type\": \"markdown\", \"metadata\": {}, \"source\": [ \" A useful function for plotting mathematical functions is \\\"linespace\\\". Linespace returns evenly spaced numbers over a specified interval. We specify the starting point of the sequence and the ending point of the sequence. The parameter \\\"num\\\" indicates the Number of samples to generate, in this case 5:\" ] }, { \"cell_type\": \"code\", \"execution_count\": null, \"metadata\": { \"collapsed\": false }, \"outputs\": [], \"source\": [ \"# Makeup a numpy array within [-2, 2] and 5 elements\\n\", \"\\n\", \"np.linspace(-2, 2, num=5)\" ] }, { \"cell_type\": \"markdown\", \"metadata\": {}, \"source\": [ \"If we change the parameter num to 9, we get 9 evenly spaced numbers over the interval from -2 to 2: \" ] }, { \"cell_type\": \"code\", \"execution_count\": null, \"metadata\": { \"collapsed\": false }, \"outputs\": [], \"source\": [ \"# Makeup a numpy array within [-2, 2] and 9 elements\\n\", \"\\n\", \"np.linspace(-2, 2, num=9)\" ] }, { \"cell_type\": \"markdown\", \"metadata\": {}, \"source\": [ \"We can use the function line space to generate 100 evenly spaced samples from the interval 0 to 2\u00cf\u20ac: \" ] }, { \"cell_type\": \"code\", \"execution_count\": null, \"metadata\": { \"collapsed\": false }, \"outputs\": [], \"source\": [ \"# Makeup a numpy array within [0, 2\u00cf\u20ac] and 100 elements \\n\", \"\\n\", \"x = np.linspace(0, 2*np.pi, num=100)\" ] }, { \"cell_type\": \"markdown\", \"metadata\": {}, \"source\": [ \"We can apply the sine function to each element in the array x and assign it to the array y: \" ] }, { \"cell_type\": \"code\", \"execution_count\": null, \"metadata\": { \"collapsed\": true }, \"outputs\": [], \"source\": [ \"# Calculate the sine of x list\\n\", \"\\n\", \"y = np.sin(x)\" ] }, { \"cell_type\": \"code\", \"execution_count\": null, \"metadata\": { \"collapsed\": false }, \"outputs\": [], \"source\": [ \"# Plot the result\\n\", \"\\n\", \"plt.plot(x, y)\" ] }, { \"cell_type\": \"markdown\", \"metadata\": {}, \"source\": [ \"\n\n\" ] }, { \"cell_type\": \"markdown\", \"metadata\": {}, \"source\": [ \"\nQuiz on 1D Numpy Array\n\" ] }, { \"cell_type\": \"markdown\", \"metadata\": {}, \"source\": [ \"Implement the following vector subtraction in numpy: u-v\" ] }, { \"cell_type\": \"code\", \"execution_count\": null, \"metadata\": {}, \"outputs\": [], \"source\": [ \"# Write your code below and press Shift+Enter to execute\\n\", \"\\n\", \"u = np.array([1, 0])\\n\", \"v = np.array([0, 1])\" ] }, { \"cell_type\": \"markdown\", \"metadata\": {}, \"source\": [ \"Double-click __here__ for the solution.\\n\", \"\\n\", \"\" ] }, { \"cell_type\": \"markdown\", \"metadata\": {}, \"source\": [ \"\n\n\" ] }, { \"cell_type\": \"markdown\", \"metadata\": {}, \"source\": [ \"Multiply the numpy array z with -2:\" ] }, { \"cell_type\": \"code\", \"execution_count\": null, \"metadata\": {}, \"outputs\": [], \"source\": [ \"# Write your code below and press Shift+Enter to execute\\n\", \"\\n\", \"z = np.array([2, 4])\" ] }, { \"cell_type\": \"markdown\", \"metadata\": {}, \"source\": [ \"Double-click __here__ for the solution.\\n\", \"\\n\", \"\" ] }, { \"cell_type\": \"markdown\", \"metadata\": {}, \"source\": [ \"\n\n\" ] }, { \"cell_type\": \"markdown\", \"metadata\": {}, \"source\": [ \"Consider the list [1, 2, 3, 4, 5] and [1, 0, 1, 0, 1], and cast both lists to a numpy array then multiply them together:\" ] }, { \"cell_type\": \"code\", \"execution_count\": null, \"metadata\": {}, \"outputs\": [], \"source\": [ \"# Write your code below and press Shift+Enter to execute\" ] }, { \"cell_type\": \"markdown\", \"metadata\": {}, \"source\": [ \"Double-click __here__ for the solution.\\n\", \"\\n\", \"\" ] }, { \"cell_type\": \"markdown\", \"metadata\": {}, \"source\": [ \"\n\n\" ] }, { \"cell_type\": \"markdown\", \"metadata\": {}, \"source\": [ \"Convert the list [-1, 1] and [1, 1] to numpy arrays a and b. Then, plot the arrays as vectors using the fuction Plotvec2 and find the dot product:\" ] }, { \"cell_type\": \"code\", \"execution_count\": null, \"metadata\": {}, \"outputs\": [], \"source\": [ \"# Write your code below and press Shift+Enter to execute\" ] }, { \"cell_type\": \"markdown\", \"metadata\": {}, \"source\": [ \"Double-click __here__ for the solution.\\n\", \"\\n\", \"\" ] }, { \"cell_type\": \"markdown\", \"metadata\": {}, \"source\": [ \"\n\n\" ] }, { \"cell_type\": \"markdown\", \"metadata\": {}, \"source\": [ \"Convert the list [1, 0] and [0, 1] to numpy arrays a and b. Then, plot the arrays as vectors using the function Plotvec2 and find the dot product:\" ] }, { \"cell_type\": \"code\", \"execution_count\": null, \"metadata\": {}, \"outputs\": [], \"source\": [ \"# Write your code below and press Shift+Enter to execute\" ] }, { \"cell_type\": \"markdown\", \"metadata\": {}, \"source\": [ \"Double-click __here__ for the solution.\\n\", \"\\n\", \"\" ] }, { \"cell_type\": \"markdown\", \"metadata\": {}, \"source\": [ \"\n\n\" ] }, { \"cell_type\": \"markdown\", \"metadata\": {}, \"source\": [ \"Convert the list [1, 1] and [0, 1] to numpy arrays a and b. Then plot the arrays as vectors using the fuction Plotvec2 and find the dot product:\" ] }, { \"cell_type\": \"code\", \"execution_count\": null, \"metadata\": {}, \"outputs\": [], \"source\": [ \"# Write your code below and press Shift+Enter to execute\" ] }, { \"cell_type\": \"markdown\", \"metadata\": {}, \"source\": [ \"Double-click __here__ for the solution.\\n\", \"\\n\", \"\" ] }, { \"cell_type\": \"markdown\", \"metadata\": {}, \"source\": [ \"\n\n\" ] }, { \"cell_type\": \"markdown\", \"metadata\": {}, \"source\": [ \"Why are the results of the dot product for [-1, 1] and [1, 1] and the dot product for [1, 0] and [0, 1] zero, but not zero for the dot product for [1, 1] and [0, 1]? \nHint: Study the corresponding figures, pay attention to the direction the arrows are pointing to.\n\" ] }, { \"cell_type\": \"code\", \"execution_count\": null, \"metadata\": {}, \"outputs\": [], \"source\": [ \"# Write your code below and press Shift+Enter to execute\" ] }, { \"cell_type\": \"markdown\", \"metadata\": {}, \"source\": [ \"Double-click __here__ for the solution.\\n\", \"\\n\", \"\" ] }, { \"cell_type\": \"markdown\", \"metadata\": {}, \"source\": [ \"\n\n\\n\", \"\nThe last exercise!\n\\n\", \"\nCongratulations, you have completed your first lesson and hands-on lab in Python. However, there is one more thing you need to do. The Data Science community encourages sharing work. The best way to share and showcase your work is to share it on GitHub. By sharing your notebook on GitHub you are not only building your reputation with fellow data scientists, but you can also show it off when applying for a job. Even though this was your first piece of work, it is never too early to start building good habits. So, please read and follow this article to learn how to share your work.\\n\", \"\n\n\" ] }, { \"cell_type\": \"markdown\", \"metadata\": {}, \"source\": [ \"\n\\n\", \"\nGet IBM Watson Studio free of charge!\n\\n\", \" \n\n\\n\", \"\n\" ] }, { \"cell_type\": \"markdown\", \"metadata\": {}, \"source\": [ \"\nAbout the Authors:\n\\n\", \"\nJoseph Santarcangelo is a Data Scientist at IBM, and holds a PhD in Electrical Engineering. His research focused on using Machine Learning, Signal Processing, and Computer Vision to determine how videos impact human cognition. Joseph has been working for IBM since he completed his PhD.\n\" ] }, { \"cell_type\": \"markdown\", \"metadata\": {}, \"source\": [ \"Other contributors: Mavis Zhou\" ] }, { \"cell_type\": \"markdown\", \"metadata\": {}, \"source\": [ \"\n\n\" ] }, { \"cell_type\": \"markdown\", \"metadata\": {}, \"source\": [ \"\nCopyright \u00a9 2018 IBM Developer Skills Network. This notebook and its source code are released under the terms of the MIT License.\n\" ] } ], \"metadata\": { \"kernelspec\": { \"display_name\": \"Python 3\", \"language\": \"python\", \"name\": \"python3\" }, \"language_info\": { \"codemirror_mode\": { \"name\": \"ipython\", \"version\": 3 }, \"file_extension\": \".py\", \"mimetype\": \"text/x-python\", \"name\": \"python\", \"nbconvert_exporter\": \"python\", \"pygments_lexer\": \"ipython3\", \"version\": \"3.6.6\" } }, \"nbformat\": 4, \"nbformat_minor\": 2 }",
            "execution_count": null,
            "outputs": []
        }
    ],
    "metadata": {
        "anaconda-cloud": {},
        "kernelspec": {
            "name": "python3",
            "display_name": "Python 3.6",
            "language": "python"
        },
        "language_info": {
            "name": "python",
            "version": "3.6.9",
            "mimetype": "text/x-python",
            "codemirror_mode": {
                "name": "ipython",
                "version": 3
            },
            "pygments_lexer": "ipython3",
            "nbconvert_exporter": "python",
            "file_extension": ".py"
        }
    },
    "nbformat": 4,
    "nbformat_minor": 2
}